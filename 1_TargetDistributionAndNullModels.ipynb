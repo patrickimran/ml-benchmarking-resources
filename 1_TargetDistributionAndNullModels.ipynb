{
 "cells": [
  {
   "cell_type": "code",
   "execution_count": 2,
   "metadata": {},
   "outputs": [],
   "source": [
    "import pandas as pd\n",
    "import numpy as np\n",
    "import biom\n",
    "from qiime2 import Artifact\n",
    "import seaborn as sns\n",
    "import os\n",
    "import json\n",
    "from matplotlib import pyplot as plt\n",
    "from q2_mlab import ParameterGrids, RegressionTask, ClassificationTask\n",
    "from sklearn.metrics import mean_absolute_error as mae\n",
    "from sklearn.metrics import mean_squared_error as rmse\n",
    "from itertools import product\n",
    "%config InlineBackend.figure_format = 'retina' # 'svg'"
   ]
  },
  {
   "cell_type": "markdown",
   "metadata": {},
   "source": [
    "These figures and the null models describe the metadata (target variable values) of each dataset.\n",
    "Point to the metadata in the cell below:"
   ]
  },
  {
   "cell_type": "code",
   "execution_count": 6,
   "metadata": {},
   "outputs": [],
   "source": [
    "basedir = \"/projects/ibm_aihl/ML-benchmark/processed/\"\n",
    "# 16S and MG have >95% overlap (shared samples). We use the 16S metadata to represent the datasets.\n",
    "level = \"16S\" \n",
    "# Column names for age and BMI are inconsistent between datasets, so we adjust for those here.\n",
    "canonical_targets = [\"age\", \"bmi\"]"
   ]
  },
  {
   "cell_type": "code",
   "execution_count": 7,
   "metadata": {},
   "outputs": [],
   "source": [
    "def merge_normalize_metadata(basedir, level, canonical_targets):\n",
    "    target_mapping = {\n",
    "        'age_v2': 'age',\n",
    "        'BL_AGE': 'age',\n",
    "        'bmi_v2': 'bmi',\n",
    "        'BMI': 'bmi',\n",
    "        'bmi': 'bmi',\n",
    "        'age': 'age'\n",
    "    }\n",
    "\n",
    "    datasets_to_target = {\n",
    "        \"finrisk\": [\"BL_AGE\", \"BMI\"],\n",
    "        \"sol\": [\"age_v2\", \"bmi_v2\"],\n",
    "        \"imsms\": [\"age\", \"bmi\"],\n",
    "    }\n",
    "    all_metadata = []\n",
    "    for dataset in datasets_to_target:   \n",
    "        for target in datasets_to_target[dataset]:\n",
    "\n",
    "            metadata = Artifact.load(\n",
    "                os.path.join(basedir, f\"{dataset}/{level}/{target}/filtered_metadata.qza\")\n",
    "            ).view(pd.Series)\n",
    "            metadata = metadata.to_frame()\n",
    "            metadata[\"dataset\"] = dataset\n",
    "\n",
    "            # Normalize target names\n",
    "            canon_target = target_mapping[target]\n",
    "            if target not in canonical_targets:\n",
    "                metadata[canon_target] = metadata[target]\n",
    "                metadata = metadata.drop([target], axis=1)\n",
    "           \n",
    "            stdev = np.std(metadata[canon_target])\n",
    "            print(dataset, canon_target, stdev) # sample stdev\n",
    "            metadata[\"stdev_\" + canon_target] = stdev\n",
    "            all_metadata.append(metadata)\n",
    "\n",
    "    df = pd.concat(all_metadata)\n",
    "    df = df.fillna('')\n",
    "    combined = []\n",
    "    for target in canonical_targets:\n",
    "        targetdf = df[df[target]!=''].drop(\n",
    "            list(filter(lambda x: x != target, canonical_targets)), \n",
    "            axis=1\n",
    "        )\n",
    "        targetdf[target] = targetdf[target].astype(\"float\")\n",
    "        combined.append(targetdf)\n",
    "    df = pd.concat(combined, axis=1)\n",
    "    df = df.loc[:,~df.columns.duplicated()]\n",
    "    return df"
   ]
  },
  {
   "cell_type": "code",
   "execution_count": 8,
   "metadata": {},
   "outputs": [
    {
     "name": "stdout",
     "output_type": "stream",
     "text": [
      "finrisk age 12.984428438908639\n",
      "finrisk bmi 4.687526024825324\n",
      "sol age 11.125794964736535\n",
      "sol bmi 5.785418158675929\n",
      "imsms age 12.583863483564011\n",
      "imsms bmi 5.297300501256507\n"
     ]
    },
    {
     "data": {
      "text/html": [
       "<div>\n",
       "<style scoped>\n",
       "    .dataframe tbody tr th:only-of-type {\n",
       "        vertical-align: middle;\n",
       "    }\n",
       "\n",
       "    .dataframe tbody tr th {\n",
       "        vertical-align: top;\n",
       "    }\n",
       "\n",
       "    .dataframe thead th {\n",
       "        text-align: right;\n",
       "    }\n",
       "</style>\n",
       "<table border=\"1\" class=\"dataframe\">\n",
       "  <thead>\n",
       "    <tr style=\"text-align: right;\">\n",
       "      <th></th>\n",
       "      <th>age</th>\n",
       "      <th>dataset</th>\n",
       "      <th>stdev_age</th>\n",
       "      <th>stdev_bmi</th>\n",
       "      <th>bmi</th>\n",
       "    </tr>\n",
       "  </thead>\n",
       "  <tbody>\n",
       "    <tr>\n",
       "      <th>820003753-8</th>\n",
       "      <td>57.92</td>\n",
       "      <td>finrisk</td>\n",
       "      <td>12.9844</td>\n",
       "      <td></td>\n",
       "      <td>49.586777</td>\n",
       "    </tr>\n",
       "    <tr>\n",
       "      <th>820003769-1</th>\n",
       "      <td>69.13</td>\n",
       "      <td>finrisk</td>\n",
       "      <td>12.9844</td>\n",
       "      <td></td>\n",
       "      <td>43.784054</td>\n",
       "    </tr>\n",
       "    <tr>\n",
       "      <th>820003785-0</th>\n",
       "      <td>71.73</td>\n",
       "      <td>finrisk</td>\n",
       "      <td>12.9844</td>\n",
       "      <td></td>\n",
       "      <td>23.035957</td>\n",
       "    </tr>\n",
       "    <tr>\n",
       "      <th>820003801-3</th>\n",
       "      <td>68.04</td>\n",
       "      <td>finrisk</td>\n",
       "      <td>12.9844</td>\n",
       "      <td></td>\n",
       "      <td>39.421661</td>\n",
       "    </tr>\n",
       "    <tr>\n",
       "      <th>820003817-9</th>\n",
       "      <td>60.38</td>\n",
       "      <td>finrisk</td>\n",
       "      <td>12.9844</td>\n",
       "      <td></td>\n",
       "      <td>27.896684</td>\n",
       "    </tr>\n",
       "    <tr>\n",
       "      <th>...</th>\n",
       "      <td>...</td>\n",
       "      <td>...</td>\n",
       "      <td>...</td>\n",
       "      <td>...</td>\n",
       "      <td>...</td>\n",
       "    </tr>\n",
       "    <tr>\n",
       "      <th>S.71802.0057.2.2.17</th>\n",
       "      <td>33.00</td>\n",
       "      <td>imsms</td>\n",
       "      <td>12.5839</td>\n",
       "      <td></td>\n",
       "      <td>16.161616</td>\n",
       "    </tr>\n",
       "    <tr>\n",
       "      <th>S.71802.0058.2.2.17</th>\n",
       "      <td>47.00</td>\n",
       "      <td>imsms</td>\n",
       "      <td>12.5839</td>\n",
       "      <td></td>\n",
       "      <td>33.240837</td>\n",
       "    </tr>\n",
       "    <tr>\n",
       "      <th>S.71802.0059.N.A</th>\n",
       "      <td>60.00</td>\n",
       "      <td>imsms</td>\n",
       "      <td>12.5839</td>\n",
       "      <td></td>\n",
       "      <td>28.196921</td>\n",
       "    </tr>\n",
       "    <tr>\n",
       "      <th>S.71802.0064.2.21.17</th>\n",
       "      <td>38.00</td>\n",
       "      <td>imsms</td>\n",
       "      <td>12.5839</td>\n",
       "      <td></td>\n",
       "      <td>29.411765</td>\n",
       "    </tr>\n",
       "    <tr>\n",
       "      <th>S.71802.0073.4.5.17</th>\n",
       "      <td>70.00</td>\n",
       "      <td>imsms</td>\n",
       "      <td>12.5839</td>\n",
       "      <td></td>\n",
       "      <td>25.306122</td>\n",
       "    </tr>\n",
       "  </tbody>\n",
       "</table>\n",
       "<p>8908 rows × 5 columns</p>\n",
       "</div>"
      ],
      "text/plain": [
       "                        age  dataset stdev_age stdev_bmi        bmi\n",
       "820003753-8           57.92  finrisk   12.9844            49.586777\n",
       "820003769-1           69.13  finrisk   12.9844            43.784054\n",
       "820003785-0           71.73  finrisk   12.9844            23.035957\n",
       "820003801-3           68.04  finrisk   12.9844            39.421661\n",
       "820003817-9           60.38  finrisk   12.9844            27.896684\n",
       "...                     ...      ...       ...       ...        ...\n",
       "S.71802.0057.2.2.17   33.00    imsms   12.5839            16.161616\n",
       "S.71802.0058.2.2.17   47.00    imsms   12.5839            33.240837\n",
       "S.71802.0059.N.A      60.00    imsms   12.5839            28.196921\n",
       "S.71802.0064.2.21.17  38.00    imsms   12.5839            29.411765\n",
       "S.71802.0073.4.5.17   70.00    imsms   12.5839            25.306122\n",
       "\n",
       "[8908 rows x 5 columns]"
      ]
     },
     "execution_count": 8,
     "metadata": {},
     "output_type": "execute_result"
    }
   ],
   "source": [
    "merged_metadata = merge_normalize_metadata(basedir, level, canonical_targets)\n",
    "merged_metadata"
   ]
  },
  {
   "cell_type": "code",
   "execution_count": 9,
   "metadata": {},
   "outputs": [
    {
     "data": {
      "image/png": "[encoded data removed]",
      "text/plain": [
       "<Figure size 180x288 with 1 Axes>"
      ]
     },
     "metadata": {
      "image/png": {
       "height": 278,
       "width": 325
      },
      "needs_background": "light"
     },
     "output_type": "display_data"
    },
    {
     "data": {
      "image/png": "[encoded data removed]",
      "text/plain": [
       "<Figure size 180x288 with 1 Axes>"
      ]
     },
     "metadata": {
      "image/png": {
       "height": 283,
       "width": 325
      },
      "needs_background": "light"
     },
     "output_type": "display_data"
    }
   ],
   "source": [
    "for target in canonical_targets:\n",
    "    fig, ax = plt.subplots()\n",
    "    fig.set_size_inches(2.5, 4)\n",
    "\n",
    "    plt.rc('font', size=12)   \n",
    "    sns.boxplot(\n",
    "        data = merged_metadata, \n",
    "        y=target,\n",
    "        x=\"dataset\",\n",
    "        hue=\"dataset\",\n",
    "        ax=ax\n",
    "    ).set_title(f\"\\\"{target}\\\" Standard Deviation (Entire Dataset)\")\n",
    "    \n",
    "    plt.legend(bbox_to_anchor=(1.05, 1), loc=2, borderaxespad=0.)"
   ]
  },
  {
   "cell_type": "code",
   "execution_count": 10,
   "metadata": {},
   "outputs": [
    {
     "data": {
      "image/png": "[encoded data removed]",
      "text/plain": [
       "<Figure size 360x288 with 1 Axes>"
      ]
     },
     "metadata": {
      "image/png": {
       "height": 283,
       "width": 343
      },
      "needs_background": "light"
     },
     "output_type": "display_data"
    },
    {
     "data": {
      "image/png": "[encoded data removed]",
      "text/plain": [
       "<Figure size 360x288 with 1 Axes>"
      ]
     },
     "metadata": {
      "image/png": {
       "height": 283,
       "width": 343
      },
      "needs_background": "light"
     },
     "output_type": "display_data"
    }
   ],
   "source": [
    "for target in canonical_targets:\n",
    "    fig, ax = plt.subplots()\n",
    "    fig.set_size_inches(5, 4)\n",
    "\n",
    "    plt.rc('font', size=12)   \n",
    "    sns.histplot(\n",
    "        data = merged_metadata, \n",
    "        x=target,\n",
    "        hue=\"dataset\",\n",
    "        hue_order=[\"finrisk\", \"imsms\", \"sol\"],\n",
    "        kde=False, \n",
    "        element=\"step\",\n",
    "        stat=\"density\", \n",
    "        common_norm=False,\n",
    "        ax=ax,\n",
    "    ).set_title(f\"\\\"{target}\\\" Distribution in Datasets\")\n",
    "    "
   ]
  },
  {
   "cell_type": "code",
   "execution_count": 11,
   "metadata": {},
   "outputs": [
    {
     "data": {
      "text/html": [
       "<div>\n",
       "<style scoped>\n",
       "    .dataframe tbody tr th:only-of-type {\n",
       "        vertical-align: middle;\n",
       "    }\n",
       "\n",
       "    .dataframe tbody tr th {\n",
       "        vertical-align: top;\n",
       "    }\n",
       "\n",
       "    .dataframe thead th {\n",
       "        text-align: right;\n",
       "    }\n",
       "</style>\n",
       "<table border=\"1\" class=\"dataframe\">\n",
       "  <thead>\n",
       "    <tr style=\"text-align: right;\">\n",
       "      <th></th>\n",
       "      <th>dataset</th>\n",
       "      <th>target</th>\n",
       "      <th>target_value</th>\n",
       "    </tr>\n",
       "  </thead>\n",
       "  <tbody>\n",
       "    <tr>\n",
       "      <th>0</th>\n",
       "      <td>finrisk</td>\n",
       "      <td>age</td>\n",
       "      <td>57.920000</td>\n",
       "    </tr>\n",
       "    <tr>\n",
       "      <th>1</th>\n",
       "      <td>finrisk</td>\n",
       "      <td>age</td>\n",
       "      <td>69.130000</td>\n",
       "    </tr>\n",
       "    <tr>\n",
       "      <th>2</th>\n",
       "      <td>finrisk</td>\n",
       "      <td>age</td>\n",
       "      <td>71.730000</td>\n",
       "    </tr>\n",
       "    <tr>\n",
       "      <th>3</th>\n",
       "      <td>finrisk</td>\n",
       "      <td>age</td>\n",
       "      <td>68.040000</td>\n",
       "    </tr>\n",
       "    <tr>\n",
       "      <th>4</th>\n",
       "      <td>finrisk</td>\n",
       "      <td>age</td>\n",
       "      <td>60.380000</td>\n",
       "    </tr>\n",
       "    <tr>\n",
       "      <th>...</th>\n",
       "      <td>...</td>\n",
       "      <td>...</td>\n",
       "      <td>...</td>\n",
       "    </tr>\n",
       "    <tr>\n",
       "      <th>17811</th>\n",
       "      <td>imsms</td>\n",
       "      <td>bmi</td>\n",
       "      <td>16.161616</td>\n",
       "    </tr>\n",
       "    <tr>\n",
       "      <th>17812</th>\n",
       "      <td>imsms</td>\n",
       "      <td>bmi</td>\n",
       "      <td>33.240837</td>\n",
       "    </tr>\n",
       "    <tr>\n",
       "      <th>17813</th>\n",
       "      <td>imsms</td>\n",
       "      <td>bmi</td>\n",
       "      <td>28.196921</td>\n",
       "    </tr>\n",
       "    <tr>\n",
       "      <th>17814</th>\n",
       "      <td>imsms</td>\n",
       "      <td>bmi</td>\n",
       "      <td>29.411765</td>\n",
       "    </tr>\n",
       "    <tr>\n",
       "      <th>17815</th>\n",
       "      <td>imsms</td>\n",
       "      <td>bmi</td>\n",
       "      <td>25.306122</td>\n",
       "    </tr>\n",
       "  </tbody>\n",
       "</table>\n",
       "<p>17816 rows × 3 columns</p>\n",
       "</div>"
      ],
      "text/plain": [
       "       dataset target  target_value\n",
       "0      finrisk    age     57.920000\n",
       "1      finrisk    age     69.130000\n",
       "2      finrisk    age     71.730000\n",
       "3      finrisk    age     68.040000\n",
       "4      finrisk    age     60.380000\n",
       "...        ...    ...           ...\n",
       "17811    imsms    bmi     16.161616\n",
       "17812    imsms    bmi     33.240837\n",
       "17813    imsms    bmi     28.196921\n",
       "17814    imsms    bmi     29.411765\n",
       "17815    imsms    bmi     25.306122\n",
       "\n",
       "[17816 rows x 3 columns]"
      ]
     },
     "execution_count": 11,
     "metadata": {},
     "output_type": "execute_result"
    }
   ],
   "source": [
    "melted_metadata = merged_metadata.melt(\n",
    "    id_vars=\"dataset\",\n",
    "    var_name=\"target\",\n",
    "    value_vars=[\"age\", \"bmi\"], \n",
    "    value_name=\"target_value\",\n",
    ")\n",
    "melted_metadata"
   ]
  },
  {
   "cell_type": "code",
   "execution_count": 12,
   "metadata": {
    "scrolled": false
   },
   "outputs": [
    {
     "data": {
      "text/plain": [
       "Text(0.5, 1.02, \"Distribution of age and BMI in each datset's population\")"
      ]
     },
     "execution_count": 12,
     "metadata": {},
     "output_type": "execute_result"
    },
    {
     "data": {
      "image/png": "[encoded data removed]",
      "text/plain": [
       "<Figure size 513.6x378 with 6 Axes>"
      ]
     },
     "metadata": {
      "image/png": {
       "height": 402,
       "width": 524
      },
      "needs_background": "light"
     },
     "output_type": "display_data"
    }
   ],
   "source": [
    "g = sns.FacetGrid(\n",
    "    melted_metadata,  \n",
    "    col=\"target\", \n",
    "    row=\"dataset\", \n",
    "    sharex=False,\n",
    "    sharey=True,\n",
    "    legend_out=True,\n",
    "    height=1.75, aspect=2,\n",
    ")\n",
    "g.map_dataframe(\n",
    "    sns.histplot, \n",
    "    x=\"target_value\",\n",
    "    hue=\"dataset\", \n",
    "    hue_order=[\"finrisk\", \"imsms\", \"sol\"],\n",
    "    kde=False, \n",
    "    element=\"step\",\n",
    "    stat=\"density\", \n",
    "    common_norm=False,\n",
    ")\n",
    "plt.xlabel(\"Relative Frequency\") \n",
    "g.set_titles(col_template=\"{col_name}\", row_template=\"dataset = {row_name}\")\n",
    "g.axes[2,0].set_xlabel('Age (years)')\n",
    "g.axes[2,1].set_xlabel('BMI')\n",
    "g.axes[1,0].set_ylabel('Relative Frequency')\n",
    "g.add_legend()\n",
    "plt.suptitle(\"Distribution of age and BMI in each datset's population\", y=1.02)"
   ]
  },
  {
   "cell_type": "code",
   "execution_count": 13,
   "metadata": {},
   "outputs": [
    {
     "ename": "NameError",
     "evalue": "name 'df' is not defined",
     "output_type": "error",
     "traceback": [
      "\u001b[0;31m---------------------------------------------------------------------------\u001b[0m",
      "\u001b[0;31mNameError\u001b[0m                                 Traceback (most recent call last)",
      "\u001b[0;32m<ipython-input-13-96e7673f04d9>\u001b[0m in \u001b[0;36m<module>\u001b[0;34m\u001b[0m\n\u001b[0;32m----> 1\u001b[0;31m \u001b[0mdf\u001b[0m\u001b[0;34m.\u001b[0m\u001b[0mgroupby\u001b[0m\u001b[0;34m(\u001b[0m\u001b[0;34m\"dataset\"\u001b[0m\u001b[0;34m)\u001b[0m\u001b[0;34m.\u001b[0m\u001b[0mvar\u001b[0m\u001b[0;34m(\u001b[0m\u001b[0;34m)\u001b[0m\u001b[0;34m\u001b[0m\u001b[0;34m\u001b[0m\u001b[0m\n\u001b[0m",
      "\u001b[0;31mNameError\u001b[0m: name 'df' is not defined"
     ]
    }
   ],
   "source": [
    "df.groupby(\"dataset\").var()"
   ]
  },
  {
   "cell_type": "code",
   "execution_count": null,
   "metadata": {},
   "outputs": [],
   "source": [
    "df.groupby(\"dataset\").count()"
   ]
  },
  {
   "cell_type": "markdown",
   "metadata": {},
   "source": [
    "# Null models \n",
    "These null models use the mean/median over the whole dataset, not just the training set of each CV fold.\n",
    "All cells below can be run without prior cells (except first two cells)"
   ]
  },
  {
   "cell_type": "code",
   "execution_count": 3,
   "metadata": {},
   "outputs": [
    {
     "name": "stdout",
     "output_type": "stream",
     "text": [
      "finrisk age 12.981947323882014\n",
      "finrisk bmi 4.688509055862854\n",
      "sol age 11.12747070499261\n",
      "sol bmi 5.784031369150544\n",
      "imsms age 12.544006509548986\n",
      "imsms bmi 5.28216657056109\n",
      "finrisk age 12.984428438908639\n",
      "finrisk bmi 4.687526024825324\n",
      "sol age 11.125794964736535\n",
      "sol bmi 5.785418158675929\n",
      "imsms age 12.583863483564011\n",
      "imsms bmi 5.297300501256507\n"
     ]
    }
   ],
   "source": [
    "basedir = \"/projects/ibm_aihl/ML-benchmark/processed/\"\n",
    "level = \"MG\"\n",
    "canonical_targets = [\"age\", \"bmi\"]\n",
    "md_MG = merge_normalize_metadata(basedir, level, canonical_targets)\n",
    "md_MG[\"level\"] = level\n",
    "\n",
    "level = \"16S\"\n",
    "canonical_targets = [\"age\", \"bmi\"]\n",
    "md_16S = merge_normalize_metadata(basedir, level, canonical_targets)\n",
    "md_16S[\"level\"] = level"
   ]
  },
  {
   "cell_type": "code",
   "execution_count": 4,
   "metadata": {},
   "outputs": [],
   "source": [
    "md_merged_level = pd.concat([md_16S, md_MG])\n",
    "md_merged_level = md_merged_level[md_merged_level.dataset.notnull()]"
   ]
  },
  {
   "cell_type": "code",
   "execution_count": 6,
   "metadata": {},
   "outputs": [],
   "source": [
    "class NormalNullifier(object):\n",
    "    \n",
    "    def __init__(self):\n",
    "        self.mean = None\n",
    "        self.sdev = None\n",
    "\n",
    "    def fit(self, x, y):\n",
    "        self.mean = np.mean(y)\n",
    "        self.sdev = np.std(y)\n",
    "        \n",
    "    def predict(self, x):\n",
    "        return np.random.normal(self.mean, self.sdev, x.shape[1]) \n",
    "\n",
    "        \n",
    "class MeanNullifier(object):\n",
    "    \n",
    "    def __init__(self):\n",
    "        self.mean = None\n",
    "\n",
    "    def fit(self, x, y):\n",
    "        self.mean = np.mean(y)\n",
    "        \n",
    "    def predict(self, x):\n",
    "        return np.repeat(self.mean, x.shape[1])\n",
    "\n",
    "    \n",
    "class MedianNullifier(object):\n",
    "    \n",
    "    def __init__(self):\n",
    "        self.median = None\n",
    "\n",
    "    def fit(self, x, y):\n",
    "        self.median = np.median(y)\n",
    "        \n",
    "    def predict(self, x):\n",
    "        return np.repeat(self.median, x.shape[1])"
   ]
  },
  {
   "cell_type": "code",
   "execution_count": 7,
   "metadata": {},
   "outputs": [],
   "source": [
    "def get_null_model_mae(Nullifier, merged_metadata):\n",
    "    null_model_scores = {}\n",
    "\n",
    "    for dataset, level in product(\n",
    "        merged_metadata.dataset.unique(),\n",
    "        merged_metadata.level.unique(),\n",
    "    ):\n",
    "        print(dataset, level)\n",
    "        subset = merged_metadata.query(f\"dataset=='{dataset}' and level=='{level}'\")\n",
    "\n",
    "        for target in [\"age\", \"bmi\"]:\n",
    "            model = Nullifier()\n",
    "            y = subset[target][subset[target].notnull()]\n",
    "            model.fit(x=None, y=y)\n",
    "            preds = model.predict(np.zeros(shape=(100, len(y))))\n",
    "            mae_score = mae(y, preds)\n",
    "\n",
    "            null_model_scores[f\"{dataset}-{level}-{target}\"] = mae_score\n",
    "    return null_model_scores\n",
    "\n",
    "def get_null_model_rmse(Nullifier, merged_metadata):\n",
    "    null_model_scores = {}\n",
    "\n",
    "    for dataset, level in product(\n",
    "        merged_metadata.dataset.unique(),\n",
    "        merged_metadata.level.unique(),\n",
    "    ):\n",
    "        print(dataset, level)\n",
    "        subset = merged_metadata.query(f\"dataset=='{dataset}' and level=='{level}'\")\n",
    "\n",
    "        for target in [\"age\", \"bmi\"]:\n",
    "            model = Nullifier()\n",
    "            y = subset[target][subset[target].notnull()]\n",
    "            model.fit(x=None, y=y)\n",
    "            preds = model.predict(np.zeros(shape=(100, len(y))))\n",
    "            mae_score = rmse(y, preds)\n",
    "\n",
    "            null_model_scores[f\"{dataset}-{level}-{target}\"] = mae_score\n",
    "    return null_model_scores"
   ]
  },
  {
   "cell_type": "code",
   "execution_count": 8,
   "metadata": {},
   "outputs": [
    {
     "name": "stdout",
     "output_type": "stream",
     "text": [
      "finrisk 16S\n",
      "finrisk MG\n",
      "sol 16S\n",
      "sol MG\n",
      "imsms 16S\n",
      "imsms MG\n"
     ]
    },
    {
     "data": {
      "text/plain": [
       "{'finrisk-16S-age': 14.915587287181173,\n",
       " 'finrisk-16S-bmi': 5.17230737288687,\n",
       " 'finrisk-MG-age': 14.754344032009286,\n",
       " 'finrisk-MG-bmi': 5.271166952851583,\n",
       " 'sol-16S-age': 12.2729265315878,\n",
       " 'sol-16S-bmi': 6.426263696865615,\n",
       " 'sol-MG-age': 12.458588139812838,\n",
       " 'sol-MG-bmi': 6.4775798522298205,\n",
       " 'imsms-16S-age': 14.601543750954344,\n",
       " 'imsms-16S-bmi': 5.911259926517631,\n",
       " 'imsms-MG-age': 14.469238541458957,\n",
       " 'imsms-MG-bmi': 5.836113140859608}"
      ]
     },
     "execution_count": 8,
     "metadata": {},
     "output_type": "execute_result"
    }
   ],
   "source": [
    "get_null_model_mae(NormalNullifier, md_merged_level)"
   ]
  },
  {
   "cell_type": "code",
   "execution_count": 9,
   "metadata": {},
   "outputs": [
    {
     "name": "stdout",
     "output_type": "stream",
     "text": [
      "finrisk 16S\n",
      "finrisk MG\n",
      "sol 16S\n",
      "sol MG\n",
      "imsms 16S\n",
      "imsms MG\n"
     ]
    },
    {
     "data": {
      "text/plain": [
       "{'finrisk-16S-age': 11.008842899124199,\n",
       " 'finrisk-16S-bmi': 3.6099480422729187,\n",
       " 'finrisk-MG-age': 11.005676285051075,\n",
       " 'finrisk-MG-bmi': 3.6101707963461864,\n",
       " 'sol-16S-age': 8.431108447160375,\n",
       " 'sol-16S-bmi': 4.377404699308495,\n",
       " 'sol-MG-age': 8.437699409189808,\n",
       " 'sol-MG-bmi': 4.377604496353603,\n",
       " 'imsms-16S-age': 10.656447239656677,\n",
       " 'imsms-16S-bmi': 3.9038037621349866,\n",
       " 'imsms-MG-age': 10.617623615110315,\n",
       " 'imsms-MG-bmi': 3.8993660237105168}"
      ]
     },
     "execution_count": 9,
     "metadata": {},
     "output_type": "execute_result"
    }
   ],
   "source": [
    "get_null_model_mae(MeanNullifier, md_merged_level)"
   ]
  },
  {
   "cell_type": "code",
   "execution_count": 10,
   "metadata": {},
   "outputs": [
    {
     "name": "stdout",
     "output_type": "stream",
     "text": [
      "finrisk 16S\n",
      "finrisk MG\n",
      "sol 16S\n",
      "sol MG\n",
      "imsms 16S\n",
      "imsms MG\n"
     ]
    },
    {
     "data": {
      "text/plain": [
       "{'finrisk-16S-age': 10.979746500777605,\n",
       " 'finrisk-16S-bmi': 3.573352970049782,\n",
       " 'finrisk-MG-age': 10.976349626400996,\n",
       " 'finrisk-MG-bmi': 3.5734209440781686,\n",
       " 'sol-16S-age': 8.405445180279617,\n",
       " 'sol-16S-bmi': 4.330821549940959,\n",
       " 'sol-MG-age': 8.411290322580646,\n",
       " 'sol-MG-bmi': 4.329213378962472,\n",
       " 'imsms-16S-age': 10.649955237242613,\n",
       " 'imsms-16S-bmi': 3.838911254592659,\n",
       " 'imsms-MG-age': 10.608733624454148,\n",
       " 'imsms-MG-bmi': 3.836397494803494}"
      ]
     },
     "execution_count": 10,
     "metadata": {},
     "output_type": "execute_result"
    }
   ],
   "source": [
    "get_null_model_mae(MedianNullifier, md_merged_level)"
   ]
  },
  {
   "cell_type": "markdown",
   "metadata": {},
   "source": [
    "The above dictionaries can be mapped to files"
   ]
  },
  {
   "cell_type": "markdown",
   "metadata": {},
   "source": [
    "# Sample count for each dataset/cohort"
   ]
  },
  {
   "cell_type": "code",
   "execution_count": 11,
   "metadata": {
    "scrolled": false
   },
   "outputs": [
    {
     "data": {
      "text/plain": [
       "{'finrisk-16S-age': 6430,\n",
       " 'finrisk-16S-bmi': 6428,\n",
       " 'finrisk-MG-age': 6424,\n",
       " 'finrisk-MG-bmi': 6422,\n",
       " 'sol-16S-age': 1359,\n",
       " 'sol-16S-bmi': 1355,\n",
       " 'sol-MG-age': 1364,\n",
       " 'sol-MG-bmi': 1359,\n",
       " 'imsms-16S-age': 1117,\n",
       " 'imsms-16S-bmi': 1117,\n",
       " 'imsms-MG-age': 1145,\n",
       " 'imsms-MG-bmi': 1145}"
      ]
     },
     "execution_count": 11,
     "metadata": {},
     "output_type": "execute_result"
    }
   ],
   "source": [
    "dataset_sizes = {}\n",
    "\n",
    "for dataset, level in product(\n",
    "    md_merged_level.dataset.unique(),\n",
    "    md_merged_level.level.unique(),\n",
    "):\n",
    "    subset = md_merged_level.query(\n",
    "        f\"dataset=='{dataset}' and level=='{level}' \"\n",
    "    )\n",
    "    \n",
    "    for target in [\"age\", \"bmi\"]:\n",
    "        subsubset = subset[target][subset[target].notnull()]\n",
    "        dataset_sizes[f\"{dataset}-{level}-{target}\"] = subsubset.shape[0]\n",
    "dataset_sizes"
   ]
  },
  {
   "cell_type": "markdown",
   "metadata": {},
   "source": [
    "# Null model and standard deviation for each CV fold\n",
    "These null models use the mean/median of the training set of each CV fold."
   ]
  },
  {
   "cell_type": "code",
   "execution_count": 16,
   "metadata": {},
   "outputs": [
    {
     "name": "stdout",
     "output_type": "stream",
     "text": [
      "{}\n",
      "finrisk/MG/age/12.982957867403094\n"
     ]
    },
    {
     "name": "stderr",
     "output_type": "stream",
     "text": [
      "/home/pmcgrath/miniconda3/envs/qiime2-2020.8/lib/python3.6/site-packages/sklearn/model_selection/_split.py:672: UserWarning: The least populated class in y has only 4 members, which is less than n_splits=5.\n",
      "  % (min_groups, self.n_splits)), UserWarning)\n",
      "/home/pmcgrath/miniconda3/envs/qiime2-2020.8/lib/python3.6/site-packages/sklearn/model_selection/_split.py:672: UserWarning: The least populated class in y has only 4 members, which is less than n_splits=5.\n",
      "  % (min_groups, self.n_splits)), UserWarning)\n",
      "/home/pmcgrath/miniconda3/envs/qiime2-2020.8/lib/python3.6/site-packages/sklearn/model_selection/_split.py:672: UserWarning: The least populated class in y has only 4 members, which is less than n_splits=5.\n",
      "  % (min_groups, self.n_splits)), UserWarning)\n"
     ]
    },
    {
     "name": "stdout",
     "output_type": "stream",
     "text": [
      "{}\n",
      "finrisk/16S/age/12.985438232310553\n",
      "{}\n",
      "finrisk/MG/bmi/4.688874133461683\n"
     ]
    },
    {
     "name": "stderr",
     "output_type": "stream",
     "text": [
      "/home/pmcgrath/miniconda3/envs/qiime2-2020.8/lib/python3.6/site-packages/sklearn/model_selection/_split.py:672: UserWarning: The least populated class in y has only 2 members, which is less than n_splits=5.\n",
      "  % (min_groups, self.n_splits)), UserWarning)\n",
      "/home/pmcgrath/miniconda3/envs/qiime2-2020.8/lib/python3.6/site-packages/sklearn/model_selection/_split.py:672: UserWarning: The least populated class in y has only 2 members, which is less than n_splits=5.\n",
      "  % (min_groups, self.n_splits)), UserWarning)\n",
      "/home/pmcgrath/miniconda3/envs/qiime2-2020.8/lib/python3.6/site-packages/sklearn/model_selection/_split.py:672: UserWarning: The least populated class in y has only 2 members, which is less than n_splits=5.\n",
      "  % (min_groups, self.n_splits)), UserWarning)\n"
     ]
    },
    {
     "name": "stdout",
     "output_type": "stream",
     "text": [
      "{}\n",
      "finrisk/16S/bmi/4.6878906851413165\n"
     ]
    },
    {
     "name": "stderr",
     "output_type": "stream",
     "text": [
      "/home/pmcgrath/miniconda3/envs/qiime2-2020.8/lib/python3.6/site-packages/sklearn/model_selection/_split.py:672: UserWarning: The least populated class in y has only 3 members, which is less than n_splits=5.\n",
      "  % (min_groups, self.n_splits)), UserWarning)\n",
      "/home/pmcgrath/miniconda3/envs/qiime2-2020.8/lib/python3.6/site-packages/sklearn/model_selection/_split.py:672: UserWarning: The least populated class in y has only 3 members, which is less than n_splits=5.\n",
      "  % (min_groups, self.n_splits)), UserWarning)\n",
      "/home/pmcgrath/miniconda3/envs/qiime2-2020.8/lib/python3.6/site-packages/sklearn/model_selection/_split.py:672: UserWarning: The least populated class in y has only 3 members, which is less than n_splits=5.\n",
      "  % (min_groups, self.n_splits)), UserWarning)\n"
     ]
    },
    {
     "name": "stdout",
     "output_type": "stream",
     "text": [
      "{}\n",
      "sol/MG/age/11.131551934069869\n",
      "{}\n",
      "sol/16S/age/11.129890600790866\n"
     ]
    },
    {
     "name": "stderr",
     "output_type": "stream",
     "text": [
      "/home/pmcgrath/miniconda3/envs/qiime2-2020.8/lib/python3.6/site-packages/sklearn/model_selection/_split.py:672: UserWarning: The least populated class in y has only 4 members, which is less than n_splits=5.\n",
      "  % (min_groups, self.n_splits)), UserWarning)\n",
      "/home/pmcgrath/miniconda3/envs/qiime2-2020.8/lib/python3.6/site-packages/sklearn/model_selection/_split.py:672: UserWarning: The least populated class in y has only 4 members, which is less than n_splits=5.\n",
      "  % (min_groups, self.n_splits)), UserWarning)\n",
      "/home/pmcgrath/miniconda3/envs/qiime2-2020.8/lib/python3.6/site-packages/sklearn/model_selection/_split.py:672: UserWarning: The least populated class in y has only 4 members, which is less than n_splits=5.\n",
      "  % (min_groups, self.n_splits)), UserWarning)\n",
      "/home/pmcgrath/miniconda3/envs/qiime2-2020.8/lib/python3.6/site-packages/sklearn/model_selection/_split.py:672: UserWarning: The least populated class in y has only 4 members, which is less than n_splits=5.\n",
      "  % (min_groups, self.n_splits)), UserWarning)\n",
      "/home/pmcgrath/miniconda3/envs/qiime2-2020.8/lib/python3.6/site-packages/sklearn/model_selection/_split.py:672: UserWarning: The least populated class in y has only 4 members, which is less than n_splits=5.\n",
      "  % (min_groups, self.n_splits)), UserWarning)\n",
      "/home/pmcgrath/miniconda3/envs/qiime2-2020.8/lib/python3.6/site-packages/sklearn/model_selection/_split.py:672: UserWarning: The least populated class in y has only 4 members, which is less than n_splits=5.\n",
      "  % (min_groups, self.n_splits)), UserWarning)\n"
     ]
    },
    {
     "name": "stdout",
     "output_type": "stream",
     "text": [
      "{}\n",
      "sol/MG/bmi/5.7861605911513045\n",
      "{}\n",
      "sol/16S/bmi/5.787554181698192\n",
      "{}\n",
      "imsms/MG/age/12.549487832296728\n"
     ]
    },
    {
     "name": "stderr",
     "output_type": "stream",
     "text": [
      "/home/pmcgrath/miniconda3/envs/qiime2-2020.8/lib/python3.6/site-packages/sklearn/model_selection/_split.py:672: UserWarning: The least populated class in y has only 4 members, which is less than n_splits=5.\n",
      "  % (min_groups, self.n_splits)), UserWarning)\n",
      "/home/pmcgrath/miniconda3/envs/qiime2-2020.8/lib/python3.6/site-packages/sklearn/model_selection/_split.py:672: UserWarning: The least populated class in y has only 4 members, which is less than n_splits=5.\n",
      "  % (min_groups, self.n_splits)), UserWarning)\n",
      "/home/pmcgrath/miniconda3/envs/qiime2-2020.8/lib/python3.6/site-packages/sklearn/model_selection/_split.py:672: UserWarning: The least populated class in y has only 4 members, which is less than n_splits=5.\n",
      "  % (min_groups, self.n_splits)), UserWarning)\n"
     ]
    },
    {
     "name": "stdout",
     "output_type": "stream",
     "text": [
      "{}\n",
      "imsms/16S/age/12.589500152820284\n",
      "{}\n",
      "imsms/MG/bmi/5.284470678225985\n",
      "{}\n",
      "imsms/16S/bmi/5.299669068556288\n"
     ]
    },
    {
     "name": "stderr",
     "output_type": "stream",
     "text": [
      "/home/pmcgrath/miniconda3/envs/qiime2-2020.8/lib/python3.6/site-packages/sklearn/model_selection/_split.py:672: UserWarning: The least populated class in y has only 2 members, which is less than n_splits=5.\n",
      "  % (min_groups, self.n_splits)), UserWarning)\n",
      "/home/pmcgrath/miniconda3/envs/qiime2-2020.8/lib/python3.6/site-packages/sklearn/model_selection/_split.py:672: UserWarning: The least populated class in y has only 2 members, which is less than n_splits=5.\n",
      "  % (min_groups, self.n_splits)), UserWarning)\n",
      "/home/pmcgrath/miniconda3/envs/qiime2-2020.8/lib/python3.6/site-packages/sklearn/model_selection/_split.py:672: UserWarning: The least populated class in y has only 2 members, which is less than n_splits=5.\n",
      "  % (min_groups, self.n_splits)), UserWarning)\n",
      "/home/pmcgrath/miniconda3/envs/qiime2-2020.8/lib/python3.6/site-packages/sklearn/model_selection/_split.py:672: UserWarning: The least populated class in y has only 2 members, which is less than n_splits=5.\n",
      "  % (min_groups, self.n_splits)), UserWarning)\n",
      "/home/pmcgrath/miniconda3/envs/qiime2-2020.8/lib/python3.6/site-packages/sklearn/model_selection/_split.py:672: UserWarning: The least populated class in y has only 2 members, which is less than n_splits=5.\n",
      "  % (min_groups, self.n_splits)), UserWarning)\n",
      "/home/pmcgrath/miniconda3/envs/qiime2-2020.8/lib/python3.6/site-packages/sklearn/model_selection/_split.py:672: UserWarning: The least populated class in y has only 2 members, which is less than n_splits=5.\n",
      "  % (min_groups, self.n_splits)), UserWarning)\n",
      "/home/pmcgrath/miniconda3/envs/qiime2-2020.8/lib/python3.6/site-packages/sklearn/model_selection/_split.py:672: UserWarning: The least populated class in y has only 4 members, which is less than n_splits=5.\n",
      "  % (min_groups, self.n_splits)), UserWarning)\n",
      "/home/pmcgrath/miniconda3/envs/qiime2-2020.8/lib/python3.6/site-packages/sklearn/model_selection/_split.py:672: UserWarning: The least populated class in y has only 4 members, which is less than n_splits=5.\n",
      "  % (min_groups, self.n_splits)), UserWarning)\n",
      "/home/pmcgrath/miniconda3/envs/qiime2-2020.8/lib/python3.6/site-packages/sklearn/model_selection/_split.py:672: UserWarning: The least populated class in y has only 4 members, which is less than n_splits=5.\n",
      "  % (min_groups, self.n_splits)), UserWarning)\n"
     ]
    }
   ],
   "source": [
    "datasets_to_target = {\n",
    "    \"finrisk\": [\"BL_AGE\", \"BMI\"],\n",
    "    \"sol\": [\"age_v2\", \"bmi_v2\"],\n",
    "    \"imsms\": [\"age\", \"bmi\"],\n",
    "}\n",
    "target_mapping = {\n",
    "    'age_v2': 'age',\n",
    "    'BL_AGE': 'age',\n",
    "    'bmi_v2': 'bmi',\n",
    "    'BMI': 'bmi',\n",
    "    'bmi': 'bmi',\n",
    "    'age': 'age'\n",
    "}\n",
    "canonical_targets = {'bmi', 'age'}\n",
    "TARGET_SD = {}\n",
    "NULL_MEANMODEL_MAE = {}\n",
    "NULL_MEDIANMODEL_MAE = {}\n",
    "    \n",
    "for dataset in datasets_to_target:   \n",
    "        for target in datasets_to_target[dataset]:\n",
    "            for level in [\"MG\", \"16S\"]:\n",
    "\n",
    "                table = Artifact.load(\n",
    "                    os.path.join(basedir, f\"{dataset}/{level}/{target}/filtered_rarefied_table.qza\")\n",
    "                ).view(biom.Table)\n",
    "\n",
    "                metadata = Artifact.load(\n",
    "                    os.path.join(basedir, f\"{dataset}/{level}/{target}/filtered_metadata.qza\")\n",
    "                ).view(pd.Series)\n",
    "\n",
    "                worker = RegressionTask(\n",
    "                    table, # This is arbitrary, since we don't use the actual model\n",
    "                    metadata,\n",
    "                    algorithm=\"RandomForestRegressor\", # This is arbitrary, since we don't use the actual model\n",
    "                    params=\"{}\", # This is arbitrary, since we don't use the actual model\n",
    "                    n_repeats=3, # We use 3x repeated stratified CV.\n",
    "                )\n",
    "\n",
    "                canon_target = target_mapping[target]\n",
    "                total_y_stdev = np.std(worker.y, ddof=1) # sample stdev\n",
    "                print(f\"{dataset}/{level}/{canon_target}/{total_y_stdev}\")\n",
    "                \n",
    "                CV_IDX = 0\n",
    "                for train_index, test_index in worker.splits:\n",
    "                    X_train = worker.X[train_index]\n",
    "                    y_train = worker.y[train_index]\n",
    "                    y_test = worker.y[test_index]\n",
    "                    \n",
    "                    stdev = np.std(y_train, ddof=1) # sample stdev\n",
    "                    TARGET_SD[f\"({dataset}, {canon_target}, {level}, {CV_IDX})\"] = stdev\n",
    "                    \n",
    "                    # Predict mean of training set \n",
    "                    null_mean_predictions = [np.mean(y_train)]*len(y_test)\n",
    "                    null_mean_mae = mae(y_test, null_mean_predictions)\n",
    "                    NULL_MEANMODEL_MAE[f\"({dataset}, {canon_target}, {level}, {CV_IDX})\"] = null_mean_mae\n",
    "                    # Predict median of training set\n",
    "                    null_median_predictions = [np.median(y_train)]*len(y_test)\n",
    "                    null_median_mae = mae(y_test, null_median_predictions)\n",
    "                    NULL_MEDIANMODEL_MAE[f\"({dataset}, {canon_target}, {level}, {CV_IDX})\"] = null_median_mae\n",
    "                    \n",
    "                    CV_IDX += 1"
   ]
  },
  {
   "cell_type": "code",
   "execution_count": 14,
   "metadata": {},
   "outputs": [
    {
     "data": {
      "text/plain": [
       "{'(finrisk, age, MG, 0)': 12.9826275251222,\n",
       " '(finrisk, age, MG, 1)': 12.982532006554512,\n",
       " '(finrisk, age, MG, 2)': 12.98256602827878,\n",
       " '(finrisk, age, MG, 3)': 12.982506284800023,\n",
       " '(finrisk, age, MG, 4)': 12.985819328357218,\n",
       " '(finrisk, age, MG, 5)': 12.982333744933946,\n",
       " '(finrisk, age, MG, 6)': 12.982583534350121,\n",
       " '(finrisk, age, MG, 7)': 12.982689402100606,\n",
       " '(finrisk, age, MG, 8)': 12.98249272389514,\n",
       " '(finrisk, age, MG, 9)': 12.985951640203048,\n",
       " '(finrisk, age, MG, 10)': 12.982315913042434,\n",
       " '(finrisk, age, MG, 11)': 12.982581323331077,\n",
       " '(finrisk, age, MG, 12)': 12.98252145017817,\n",
       " '(finrisk, age, MG, 13)': 12.982676309207388,\n",
       " '(finrisk, age, MG, 14)': 12.985956098363527,\n",
       " '(finrisk, age, 16S, 0)': 12.98578125329406,\n",
       " '(finrisk, age, 16S, 1)': 12.985686181796467,\n",
       " '(finrisk, age, 16S, 2)': 12.98546240328747,\n",
       " '(finrisk, age, 16S, 3)': 12.98583690302002,\n",
       " '(finrisk, age, 16S, 4)': 12.985686841649162,\n",
       " '(finrisk, age, 16S, 5)': 12.985716406685995,\n",
       " '(finrisk, age, 16S, 6)': 12.98578773697311,\n",
       " '(finrisk, age, 16S, 7)': 12.98566257483271,\n",
       " '(finrisk, age, 16S, 8)': 12.985587155571201,\n",
       " '(finrisk, age, 16S, 9)': 12.98569970856457,\n",
       " '(finrisk, age, 16S, 10)': 12.98592412658896,\n",
       " '(finrisk, age, 16S, 11)': 12.985687908769238,\n",
       " '(finrisk, age, 16S, 12)': 12.985555262396629,\n",
       " '(finrisk, age, 16S, 13)': 12.985676880868056,\n",
       " '(finrisk, age, 16S, 14)': 12.985609405420849,\n",
       " '(finrisk, bmi, MG, 0)': 4.682214366569588,\n",
       " '(finrisk, bmi, MG, 1)': 4.676579307986954,\n",
       " '(finrisk, bmi, MG, 2)': 4.692806265785838,\n",
       " '(finrisk, bmi, MG, 3)': 4.696577987507856,\n",
       " '(finrisk, bmi, MG, 4)': 4.696606471432095,\n",
       " '(finrisk, bmi, MG, 5)': 4.6794808295979875,\n",
       " '(finrisk, bmi, MG, 6)': 4.682228121493641,\n",
       " '(finrisk, bmi, MG, 7)': 4.697057579039806,\n",
       " '(finrisk, bmi, MG, 8)': 4.693020552257069,\n",
       " '(finrisk, bmi, MG, 9)': 4.693008394895705,\n",
       " '(finrisk, bmi, MG, 10)': 4.680153300821518,\n",
       " '(finrisk, bmi, MG, 11)': 4.675996568035247,\n",
       " '(finrisk, bmi, MG, 12)': 4.696183716026131,\n",
       " '(finrisk, bmi, MG, 13)': 4.694391054557875,\n",
       " '(finrisk, bmi, MG, 14)': 4.698049776717651,\n",
       " '(finrisk, bmi, 16S, 0)': 4.681842770300523,\n",
       " '(finrisk, bmi, 16S, 1)': 4.682336010820684,\n",
       " '(finrisk, bmi, 16S, 2)': 4.682213594108639,\n",
       " '(finrisk, bmi, 16S, 3)': 4.697854454197586,\n",
       " '(finrisk, bmi, 16S, 4)': 4.695628053045195,\n",
       " '(finrisk, bmi, 16S, 5)': 4.682726855015313,\n",
       " '(finrisk, bmi, 16S, 6)': 4.681361197373447,\n",
       " '(finrisk, bmi, 16S, 7)': 4.676944970011521,\n",
       " '(finrisk, bmi, 16S, 8)': 4.697977722321684,\n",
       " '(finrisk, bmi, 16S, 9)': 4.700840442607696,\n",
       " '(finrisk, bmi, 16S, 10)': 4.683564985444482,\n",
       " '(finrisk, bmi, 16S, 11)': 4.677478038676549,\n",
       " '(finrisk, bmi, 16S, 12)': 4.680688516021995,\n",
       " '(finrisk, bmi, 16S, 13)': 4.698627843759219,\n",
       " '(finrisk, bmi, 16S, 14)': 4.699495511582349,\n",
       " '(sol, age, MG, 0)': 11.135501011321766,\n",
       " '(sol, age, MG, 1)': 11.122495980405999,\n",
       " '(sol, age, MG, 2)': 11.134580206637287,\n",
       " '(sol, age, MG, 3)': 11.120751803667833,\n",
       " '(sol, age, MG, 4)': 11.149482309596292,\n",
       " '(sol, age, MG, 5)': 11.129950334494847,\n",
       " '(sol, age, MG, 6)': 11.12378745367596,\n",
       " '(sol, age, MG, 7)': 11.129860047501271,\n",
       " '(sol, age, MG, 8)': 11.129552990688092,\n",
       " '(sol, age, MG, 9)': 11.149659788261223,\n",
       " '(sol, age, MG, 10)': 11.130002768613506,\n",
       " '(sol, age, MG, 11)': 11.132406917404257,\n",
       " '(sol, age, MG, 12)': 11.13359761884773,\n",
       " '(sol, age, MG, 13)': 11.120557014740713,\n",
       " '(sol, age, MG, 14)': 11.146253398507923,\n",
       " '(sol, age, 16S, 0)': 11.133709826987765,\n",
       " '(sol, age, 16S, 1)': 11.128717740685392,\n",
       " '(sol, age, 16S, 2)': 11.119586361849633,\n",
       " '(sol, age, 16S, 3)': 11.129031652769795,\n",
       " '(sol, age, 16S, 4)': 11.14348453818378,\n",
       " '(sol, age, 16S, 5)': 11.121284327536962,\n",
       " '(sol, age, 16S, 6)': 11.130557775685734,\n",
       " '(sol, age, 16S, 7)': 11.130769046274438,\n",
       " '(sol, age, 16S, 8)': 11.123477739810577,\n",
       " '(sol, age, 16S, 9)': 11.148424064890731,\n",
       " '(sol, age, 16S, 10)': 11.132551900745748,\n",
       " '(sol, age, 16S, 11)': 11.12409130600973,\n",
       " '(sol, age, 16S, 12)': 11.12196869665777,\n",
       " '(sol, age, 16S, 13)': 11.131412574913423,\n",
       " '(sol, age, 16S, 14)': 11.144511586508083,\n",
       " '(sol, bmi, MG, 0)': 5.715062032590692,\n",
       " '(sol, bmi, MG, 1)': 5.818433386218504,\n",
       " '(sol, bmi, MG, 2)': 5.768590955590746,\n",
       " '(sol, bmi, MG, 3)': 5.781636359964631,\n",
       " '(sol, bmi, MG, 4)': 5.8487146861117205,\n",
       " '(sol, bmi, MG, 5)': 5.813835194595688,\n",
       " '(sol, bmi, MG, 6)': 5.762351489620089,\n",
       " '(sol, bmi, MG, 7)': 5.723725912850543,\n",
       " '(sol, bmi, MG, 8)': 5.785749236495113,\n",
       " '(sol, bmi, MG, 9)': 5.84691045085093,\n",
       " '(sol, bmi, MG, 10)': 5.768634564256889,\n",
       " '(sol, bmi, MG, 11)': 5.716167561332065,\n",
       " '(sol, bmi, MG, 12)': 5.808179199174931,\n",
       " '(sol, bmi, MG, 13)': 5.785561817106603,\n",
       " '(sol, bmi, MG, 14)': 5.853886401686518,\n",
       " '(sol, bmi, 16S, 0)': 5.827168321783013,\n",
       " '(sol, bmi, 16S, 1)': 5.717422342513047,\n",
       " '(sol, bmi, 16S, 2)': 5.800715156138594,\n",
       " '(sol, bmi, 16S, 3)': 5.7718756508160185,\n",
       " '(sol, bmi, 16S, 4)': 5.822537879076699,\n",
       " '(sol, bmi, 16S, 5)': 5.7720056261832715,\n",
       " '(sol, bmi, 16S, 6)': 5.790890541899475,\n",
       " '(sol, bmi, 16S, 7)': 5.726704811813457,\n",
       " '(sol, bmi, 16S, 8)': 5.827293704587623,\n",
       " '(sol, bmi, 16S, 9)': 5.822941791434101,\n",
       " '(sol, bmi, 16S, 10)': 5.770839565961375,\n",
       " '(sol, bmi, 16S, 11)': 5.822298244193875,\n",
       " '(sol, bmi, 16S, 12)': 5.793847498227996,\n",
       " '(sol, bmi, 16S, 13)': 5.82513810551622,\n",
       " '(sol, bmi, 16S, 14)': 5.727733959341196,\n",
       " '(imsms, age, MG, 0)': 12.535428924018237,\n",
       " '(imsms, age, MG, 1)': 12.550923736500975,\n",
       " '(imsms, age, MG, 2)': 12.561221969727066,\n",
       " '(imsms, age, MG, 3)': 12.549109438841473,\n",
       " '(imsms, age, MG, 4)': 12.557593285176084,\n",
       " '(imsms, age, MG, 5)': 12.540117597506635,\n",
       " '(imsms, age, MG, 6)': 12.547734232955806,\n",
       " '(imsms, age, MG, 7)': 12.558286993831535,\n",
       " '(imsms, age, MG, 8)': 12.549479088564814,\n",
       " '(imsms, age, MG, 9)': 12.558667251336322,\n",
       " '(imsms, age, MG, 10)': 12.55267960215503,\n",
       " '(imsms, age, MG, 11)': 12.556912603018178,\n",
       " '(imsms, age, MG, 12)': 12.548307210144719,\n",
       " '(imsms, age, MG, 13)': 12.538754441591255,\n",
       " '(imsms, age, MG, 14)': 12.557628439450248,\n",
       " '(imsms, age, 16S, 0)': 12.573188486650599,\n",
       " '(imsms, age, 16S, 1)': 12.57203339487892,\n",
       " '(imsms, age, 16S, 2)': 12.588313082396098,\n",
       " '(imsms, age, 16S, 3)': 12.608641593338422,\n",
       " '(imsms, age, 16S, 4)': 12.612219862746121,\n",
       " '(imsms, age, 16S, 5)': 12.567666392651732,\n",
       " '(imsms, age, 16S, 6)': 12.568137672463848,\n",
       " '(imsms, age, 16S, 7)': 12.610035912094867,\n",
       " '(imsms, age, 16S, 8)': 12.593712043350498,\n",
       " '(imsms, age, 16S, 9)': 12.614825795958888,\n",
       " '(imsms, age, 16S, 10)': 12.557132802517755,\n",
       " '(imsms, age, 16S, 11)': 12.571052462098022,\n",
       " '(imsms, age, 16S, 12)': 12.606598711434616,\n",
       " '(imsms, age, 16S, 13)': 12.611807247418604,\n",
       " '(imsms, age, 16S, 14)': 12.607753424488056,\n",
       " '(imsms, bmi, MG, 0)': 5.26528514969258,\n",
       " '(imsms, bmi, MG, 1)': 5.154805126359003,\n",
       " '(imsms, bmi, MG, 2)': 5.314515210386429,\n",
       " '(imsms, bmi, MG, 3)': 5.346027502230803,\n",
       " '(imsms, bmi, MG, 4)': 5.3418870852933695,\n",
       " '(imsms, bmi, MG, 5)': 5.262854055180792,\n",
       " '(imsms, bmi, MG, 6)': 5.177625119045234,\n",
       " '(imsms, bmi, MG, 7)': 5.330208535820811,\n",
       " '(imsms, bmi, MG, 8)': 5.3051590550887955,\n",
       " '(imsms, bmi, MG, 9)': 5.347373751617994,\n",
       " '(imsms, bmi, MG, 10)': 5.23496289140269,\n",
       " '(imsms, bmi, MG, 11)': 5.180720054849961,\n",
       " '(imsms, bmi, MG, 12)': 5.30724635009869,\n",
       " '(imsms, bmi, MG, 13)': 5.341450570148071,\n",
       " '(imsms, bmi, MG, 14)': 5.358381711420973,\n",
       " '(imsms, bmi, 16S, 0)': 5.294613274893369,\n",
       " '(imsms, bmi, 16S, 1)': 5.202675632435732,\n",
       " '(imsms, bmi, 16S, 2)': 5.3018734372917,\n",
       " '(imsms, bmi, 16S, 3)': 5.318964754606207,\n",
       " '(imsms, bmi, 16S, 4)': 5.381421542898,\n",
       " '(imsms, bmi, 16S, 5)': 5.295031665405139,\n",
       " '(imsms, bmi, 16S, 6)': 5.305907517485671,\n",
       " '(imsms, bmi, 16S, 7)': 5.211699582998699,\n",
       " '(imsms, bmi, 16S, 8)': 5.312715909294313,\n",
       " '(imsms, bmi, 16S, 9)': 5.3744885222653105,\n",
       " '(imsms, bmi, 16S, 10)': 5.319639486167812,\n",
       " '(imsms, bmi, 16S, 11)': 5.293004051852215,\n",
       " '(imsms, bmi, 16S, 12)': 5.211059967045989,\n",
       " '(imsms, bmi, 16S, 13)': 5.307598434489642,\n",
       " '(imsms, bmi, 16S, 14)': 5.368601694206442}"
      ]
     },
     "execution_count": 14,
     "metadata": {},
     "output_type": "execute_result"
    }
   ],
   "source": [
    "TARGET_SD"
   ]
  },
  {
   "cell_type": "code",
   "execution_count": 14,
   "metadata": {},
   "outputs": [
    {
     "data": {
      "text/plain": [
       "{'(finrisk, age, MG, 0)': 11.00758368711683,\n",
       " '(finrisk, age, MG, 1)': 11.007910901831801,\n",
       " '(finrisk, age, MG, 2)': 11.007948868914982,\n",
       " '(finrisk, age, MG, 3)': 11.007945404146062,\n",
       " '(finrisk, age, MG, 4)': 10.996985754027419,\n",
       " '(finrisk, age, MG, 5)': 11.00828423068274,\n",
       " '(finrisk, age, MG, 6)': 11.00773457719749,\n",
       " '(finrisk, age, MG, 7)': 11.00732735176112,\n",
       " '(finrisk, age, MG, 8)': 11.00797444884355,\n",
       " '(finrisk, age, MG, 9)': 10.997054089845692,\n",
       " '(finrisk, age, MG, 10)': 11.008633484841258,\n",
       " '(finrisk, age, MG, 11)': 11.007520721604758,\n",
       " '(finrisk, age, MG, 12)': 11.007969999765281,\n",
       " '(finrisk, age, MG, 13)': 11.007850731758285,\n",
       " '(finrisk, age, MG, 14)': 10.996399414524165,\n",
       " '(finrisk, age, 16S, 0)': 11.008592114746921,\n",
       " '(finrisk, age, 16S, 1)': 11.008754196406327,\n",
       " '(finrisk, age, 16S, 2)': 11.00964562739298,\n",
       " '(finrisk, age, 16S, 3)': 11.008345237260217,\n",
       " '(finrisk, age, 16S, 4)': 11.008877394793553,\n",
       " '(finrisk, age, 16S, 5)': 11.008854387119088,\n",
       " '(finrisk, age, 16S, 6)': 11.008353330761473,\n",
       " '(finrisk, age, 16S, 7)': 11.009020114935579,\n",
       " '(finrisk, age, 16S, 8)': 11.00920388608994,\n",
       " '(finrisk, age, 16S, 9)': 11.008783024024728,\n",
       " '(finrisk, age, 16S, 10)': 11.008107036780837,\n",
       " '(finrisk, age, 16S, 11)': 11.008917650665499,\n",
       " '(finrisk, age, 16S, 12)': 11.009197376822776,\n",
       " '(finrisk, age, 16S, 13)': 11.008851369818284,\n",
       " '(finrisk, age, 16S, 14)': 11.009141109302478,\n",
       " '(finrisk, bmi, MG, 0)': 3.6184190427226763,\n",
       " '(finrisk, bmi, MG, 1)': 3.6235644271704266,\n",
       " '(finrisk, bmi, MG, 2)': 3.6049198593571323,\n",
       " '(finrisk, bmi, MG, 3)': 3.601565343489172,\n",
       " '(finrisk, bmi, MG, 4)': 3.602379598757584,\n",
       " '(finrisk, bmi, MG, 5)': 3.620844999415558,\n",
       " '(finrisk, bmi, MG, 6)': 3.618765660739599,\n",
       " '(finrisk, bmi, MG, 7)': 3.601129255427413,\n",
       " '(finrisk, bmi, MG, 8)': 3.6050124848571,\n",
       " '(finrisk, bmi, MG, 9)': 3.605091231243593,\n",
       " '(finrisk, bmi, MG, 10)': 3.6202809070861823,\n",
       " '(finrisk, bmi, MG, 11)': 3.623955661350394,\n",
       " '(finrisk, bmi, MG, 12)': 3.602619147160467,\n",
       " '(finrisk, bmi, MG, 13)': 3.6032954136891364,\n",
       " '(finrisk, bmi, MG, 14)': 3.6006892778243347,\n",
       " '(finrisk, bmi, 16S, 0)': 3.6175004807777134,\n",
       " '(finrisk, bmi, 16S, 1)': 3.616546603946298,\n",
       " '(finrisk, bmi, 16S, 2)': 3.6164949879649253,\n",
       " '(finrisk, bmi, 16S, 3)': 3.5989229663273794,\n",
       " '(finrisk, bmi, 16S, 4)': 3.60026637333443,\n",
       " '(finrisk, bmi, 16S, 5)': 3.616282895681471,\n",
       " '(finrisk, bmi, 16S, 6)': 3.617581816812092,\n",
       " '(finrisk, bmi, 16S, 7)': 3.620826725466028,\n",
       " '(finrisk, bmi, 16S, 8)': 3.5987599394372674,\n",
       " '(finrisk, bmi, 16S, 9)': 3.596274872662463,\n",
       " '(finrisk, bmi, 16S, 10)': 3.615255105755983,\n",
       " '(finrisk, bmi, 16S, 11)': 3.620203944697566,\n",
       " '(finrisk, bmi, 16S, 12)': 3.618921724673941,\n",
       " '(finrisk, bmi, 16S, 13)': 3.598192918068714,\n",
       " '(finrisk, bmi, 16S, 14)': 3.597156975593381,\n",
       " '(sol, age, MG, 0)': 8.441591711069254,\n",
       " '(sol, age, MG, 1)': 8.460151824954758,\n",
       " '(sol, age, MG, 2)': 8.430814220915046,\n",
       " '(sol, age, MG, 3)': 8.463979344822608,\n",
       " '(sol, age, MG, 4)': 8.391927925016162,\n",
       " '(sol, age, MG, 5)': 8.445345366518602,\n",
       " '(sol, age, MG, 6)': 8.463509298523048,\n",
       " '(sol, age, MG, 7)': 8.44564082419261,\n",
       " '(sol, age, MG, 8)': 8.453107845408487,\n",
       " '(sol, age, MG, 9)': 8.380797511312217,\n",
       " '(sol, age, MG, 10)': 8.441773014641942,\n",
       " '(sol, age, MG, 11)': 8.437898490144136,\n",
       " '(sol, age, MG, 12)': 8.441907313584673,\n",
       " '(sol, age, MG, 13)': 8.475038862756552,\n",
       " '(sol, age, MG, 14)': 8.39184712346477,\n",
       " '(sol, age, 16S, 0)': 8.428604767574003,\n",
       " '(sol, age, 16S, 1)': 8.43971535256237,\n",
       " '(sol, age, 16S, 2)': 8.454664754586288,\n",
       " '(sol, age, 16S, 3)': 8.43960712159749,\n",
       " '(sol, age, 16S, 4)': 8.392863441502062,\n",
       " '(sol, age, 16S, 5)': 8.454529465880187,\n",
       " '(sol, age, 16S, 6)': 8.435903593268035,\n",
       " '(sol, age, 16S, 7)': 8.432254180421019,\n",
       " '(sol, age, 16S, 8)': 8.45425888846799,\n",
       " '(sol, age, 16S, 9)': 8.378632380073801,\n",
       " '(sol, age, 16S, 10)': 8.443310649926943,\n",
       " '(sol, age, 16S, 11)': 8.432416526868337,\n",
       " '(sol, age, 16S, 12)': 8.454583581362627,\n",
       " '(sol, age, 16S, 13)': 8.432145949456139,\n",
       " '(sol, age, 16S, 14)': 8.393005887779465,\n",
       " '(sol, bmi, MG, 0)': 4.43249450288581,\n",
       " '(sol, bmi, MG, 1)': 4.3554163113919175,\n",
       " '(sol, bmi, MG, 2)': 4.3978666842956535,\n",
       " '(sol, bmi, MG, 3)': 4.3982125442809075,\n",
       " '(sol, bmi, MG, 4)': 4.303988206459226,\n",
       " '(sol, bmi, MG, 5)': 4.365583721384275,\n",
       " '(sol, bmi, MG, 6)': 4.4085355847944285,\n",
       " '(sol, bmi, MG, 7)': 4.4246446644992625,\n",
       " '(sol, bmi, MG, 8)': 4.387746948375757,\n",
       " '(sol, bmi, MG, 9)': 4.301372317029587,\n",
       " '(sol, bmi, MG, 10)': 4.399401116477655,\n",
       " '(sol, bmi, MG, 11)': 4.433620986347341,\n",
       " '(sol, bmi, MG, 12)': 4.37190151680076,\n",
       " '(sol, bmi, MG, 13)': 4.388033341771065,\n",
       " '(sol, bmi, MG, 14)': 4.294920360120164,\n",
       " '(sol, bmi, 16S, 0)': 4.34223849912879,\n",
       " '(sol, bmi, 16S, 1)': 4.435222298576136,\n",
       " '(sol, bmi, 16S, 2)': 4.3662142173752745,\n",
       " '(sol, bmi, 16S, 3)': 4.393675321466313,\n",
       " '(sol, bmi, 16S, 4)': 4.349660840705226,\n",
       " '(sol, bmi, 16S, 5)': 4.392484903317151,\n",
       " '(sol, bmi, 16S, 6)': 4.377831181531773,\n",
       " '(sol, bmi, 16S, 7)': 4.419231250471195,\n",
       " '(sol, bmi, 16S, 8)': 4.342988375593572,\n",
       " '(sol, bmi, 16S, 9)': 4.354493131708412,\n",
       " '(sol, bmi, 16S, 10)': 4.395403438311842,\n",
       " '(sol, bmi, 16S, 11)': 4.355220283382953,\n",
       " '(sol, bmi, 16S, 12)': 4.372247605930645,\n",
       " '(sol, bmi, 16S, 13)': 4.345473712113295,\n",
       " '(sol, bmi, 16S, 14)': 4.418682515681737,\n",
       " '(imsms, age, MG, 0)': 10.64639785663889,\n",
       " '(imsms, age, MG, 1)': 10.620330466619631,\n",
       " '(imsms, age, MG, 2)': 10.593862626570813,\n",
       " '(imsms, age, MG, 3)': 10.620196983276445,\n",
       " '(imsms, age, MG, 4)': 10.607330142445797,\n",
       " '(imsms, age, MG, 5)': 10.63326404912187,\n",
       " '(imsms, age, MG, 6)': 10.624597166339315,\n",
       " '(imsms, age, MG, 7)': 10.611530100493889,\n",
       " '(imsms, age, MG, 8)': 10.620397208291223,\n",
       " '(imsms, age, MG, 9)': 10.598329551305277,\n",
       " '(imsms, age, MG, 10)': 10.620196983276445,\n",
       " '(imsms, age, MG, 11)': 10.58972941019431,\n",
       " '(imsms, age, MG, 12)': 10.624530424667721,\n",
       " '(imsms, age, MG, 13)': 10.646264373295704,\n",
       " '(imsms, age, MG, 14)': 10.60739688411739,\n",
       " '(imsms, age, 16S, 0)': 10.704627259638459,\n",
       " '(imsms, age, 16S, 1)': 10.717870140777475,\n",
       " '(imsms, age, 16S, 2)': 10.654823888203367,\n",
       " '(imsms, age, 16S, 3)': 10.611385319168148,\n",
       " '(imsms, age, 16S, 4)': 10.593357811418425,\n",
       " '(imsms, age, 16S, 5)': 10.704327307630779,\n",
       " '(imsms, age, 16S, 6)': 10.720764677651575,\n",
       " '(imsms, age, 16S, 7)': 10.602506997321457,\n",
       " '(imsms, age, 16S, 8)': 10.656228368495501,\n",
       " '(imsms, age, 16S, 9)': 10.59788726036055,\n",
       " '(imsms, age, 16S, 10)': 10.735727283634617,\n",
       " '(imsms, age, 16S, 11)': 10.708941569348905,\n",
       " '(imsms, age, 16S, 12)': 10.619019672756092,\n",
       " '(imsms, age, 16S, 13)': 10.606855870226022,\n",
       " '(imsms, age, 16S, 14)': 10.611385319168148,\n",
       " '(imsms, bmi, MG, 0)': 3.932945420933764,\n",
       " '(imsms, bmi, MG, 1)': 4.0123045758198765,\n",
       " '(imsms, bmi, MG, 2)': 3.8596086485976255,\n",
       " '(imsms, bmi, MG, 3)': 3.831785957442132,\n",
       " '(imsms, bmi, MG, 4)': 3.8388790392821877,\n",
       " '(imsms, bmi, MG, 5)': 3.9356718439289264,\n",
       " '(imsms, bmi, MG, 6)': 3.9896508369812245,\n",
       " '(imsms, bmi, MG, 7)': 3.846029491700441,\n",
       " '(imsms, bmi, MG, 8)': 3.870064213018429,\n",
       " '(imsms, bmi, MG, 9)': 3.8344994713988556,\n",
       " '(imsms, bmi, MG, 10)': 3.9619441269330515,\n",
       " '(imsms, bmi, MG, 11)': 3.9844271553659856,\n",
       " '(imsms, bmi, MG, 12)': 3.8747436239202844,\n",
       " '(imsms, bmi, MG, 13)': 3.8357707788536883,\n",
       " '(imsms, bmi, MG, 14)': 3.8187911635893483,\n",
       " '(imsms, bmi, 16S, 0)': 3.91441976949167,\n",
       " '(imsms, bmi, 16S, 1)': 3.9697338778155924,\n",
       " '(imsms, bmi, 16S, 2)': 3.9105965897086494,\n",
       " '(imsms, bmi, 16S, 3)': 3.8963618382081995,\n",
       " '(imsms, bmi, 16S, 4)': 3.8063641879158503,\n",
       " '(imsms, bmi, 16S, 5)': 3.9108262506105844,\n",
       " '(imsms, bmi, 16S, 6)': 3.9078754859233342,\n",
       " '(imsms, bmi, 16S, 7)': 3.9654493615282824,\n",
       " '(imsms, bmi, 16S, 8)': 3.900723722155726,\n",
       " '(imsms, bmi, 16S, 9)': 3.8126279591574415,\n",
       " '(imsms, bmi, 16S, 10)': 3.891589996369413,\n",
       " '(imsms, bmi, 16S, 11)': 3.914777660544343,\n",
       " '(imsms, bmi, 16S, 12)': 3.9663802294665302,\n",
       " '(imsms, bmi, 16S, 13)': 3.906023768098813,\n",
       " '(imsms, bmi, 16S, 14)': 3.818548646526415}"
      ]
     },
     "execution_count": 14,
     "metadata": {},
     "output_type": "execute_result"
    }
   ],
   "source": [
    "NULL_MEANMODEL_MAE"
   ]
  },
  {
   "cell_type": "markdown",
   "metadata": {},
   "source": [
    "Finally, dump to JSON"
   ]
  },
  {
   "cell_type": "code",
   "execution_count": 18,
   "metadata": {},
   "outputs": [],
   "source": [
    "with open(\"standard_deviations.json\",  \"w\") as  f:\n",
    "    json.dump(TARGET_SD, f, ensure_ascii=False, indent=4)\n",
    "with open(\"null_mean_models.json\",  \"w\") as  f:\n",
    "    json.dump(NULL_MEANMODEL_MAE, f, ensure_ascii=False, indent=4)\n",
    "with open(\"null_median_models.json\",  \"w\") as  f:\n",
    "    json.dump(NULL_MEDIANMODEL_MAE, f, ensure_ascii=False, indent=4)"
   ]
  }
 ],
 "metadata": {
  "kernelspec": {
   "display_name": "qiime2-2020.8",
   "language": "python",
   "name": "qiime2-2020.8"
  },
  "language_info": {
   "codemirror_mode": {
    "name": "ipython",
    "version": 3
   },
   "file_extension": ".py",
   "mimetype": "text/x-python",
   "name": "python",
   "nbconvert_exporter": "python",
   "pygments_lexer": "ipython3",
   "version": "3.6.10"
  }
 },
 "nbformat": 4,
 "nbformat_minor": 2
}
